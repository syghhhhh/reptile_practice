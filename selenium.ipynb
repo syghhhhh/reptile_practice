{
 "cells": [
  {
   "cell_type": "code",
   "execution_count": 1,
   "id": "initial_id",
   "metadata": {
    "collapsed": true,
    "ExecuteTime": {
     "end_time": "2024-08-20T07:17:49.458230900Z",
     "start_time": "2024-08-20T07:17:49.000733900Z"
    }
   },
   "outputs": [
    {
     "name": "stderr",
     "output_type": "stream",
     "text": [
      "D:\\anaconda3\\Lib\\site-packages\\pandas\\core\\arrays\\masked.py:60: UserWarning: Pandas requires version '1.3.6' or newer of 'bottleneck' (version '1.3.5' currently installed).\n",
      "  from pandas.core import (\n"
     ]
    }
   ],
   "source": [
    "from selenium import webdriver\n",
    "from selenium.webdriver.common.by import By\n",
    "from bs4 import BeautifulSoup\n",
    "import pandas as pd\n",
    "import os\n",
    "from tqdm import tqdm"
   ]
  },
  {
   "cell_type": "code",
   "execution_count": 2,
   "outputs": [],
   "source": [
    "url = 'https://flk.npc.gov.cn/list.html?sort=true&type=flfg&xlwj=02,03,04,05,06,07,08'"
   ],
   "metadata": {
    "collapsed": false,
    "ExecuteTime": {
     "end_time": "2024-08-20T07:17:54.397151300Z",
     "start_time": "2024-08-20T07:17:54.383469800Z"
    }
   },
   "id": "79508d7015a4ed87"
  },
  {
   "cell_type": "markdown",
   "source": [
    "### 测试"
   ],
   "metadata": {
    "collapsed": false
   },
   "id": "d2383b32e3103ff2"
  },
  {
   "cell_type": "code",
   "execution_count": 3,
   "outputs": [],
   "source": [
    "# 启动chrome驱动 这步需要等待一段时间\n",
    "driver = webdriver.Chrome()"
   ],
   "metadata": {
    "collapsed": false,
    "ExecuteTime": {
     "start_time": "2024-08-20T01:19:43.478498900Z"
    }
   },
   "id": "ac1d3a9987a496f2"
  },
  {
   "cell_type": "code",
   "execution_count": 5,
   "outputs": [],
   "source": [
    "# 进入想要爬取的网页\n",
    "driver.get(url)"
   ],
   "metadata": {
    "collapsed": false,
    "ExecuteTime": {
     "end_time": "2024-08-20T01:21:20.667026500Z",
     "start_time": "2024-08-20T01:21:20.363071200Z"
    }
   },
   "id": "2173cc01e5905aee"
  },
  {
   "cell_type": "code",
   "execution_count": 7,
   "outputs": [],
   "source": [
    "# 通过唯一id检索到想要的元素\n",
    "element = driver.find_element(By.ID, \"flData\")"
   ],
   "metadata": {
    "collapsed": false,
    "ExecuteTime": {
     "end_time": "2024-08-20T01:23:04.709155200Z",
     "start_time": "2024-08-20T01:23:04.692154500Z"
    }
   },
   "id": "c18b0565c1ef5a4f"
  },
  {
   "cell_type": "code",
   "execution_count": 10,
   "outputs": [
    {
     "data": {
      "text/plain": "'<tr class=\"list-b\"><td class=\"l-sx0\"><div class=\"l-xh\">1</div></td><td class=\"l-sx1\"><h1 class=\"l-sx\"><ul><li class=\"l-wen\" onclick=\"showDetail(\\'./detail2.html?ZmY4MDgxODE4ZDZhNDYzOTAxOTA1ZjJjYzJjMTJkM2I%3D\\')\" style=\"cursor:pointer;\" title=\"中华人民共和国农村集体经济组织法\">中华人民共和国农村集体经济组织法</li></ul></h1></td><td class=\"l-sx2\"><h2 class=\"l-wen1\">全国人民代表大会常务委员会</h2></td><td class=\"l-sx3\"><h2 class=\"l-wen1\">法律 </h2></td><td class=\"l-sx3\"><h2 class=\"l-wen1\">尚未生效 </h2></td><td class=\"l-sx4\"><h2 class=\"l-wen1\">[2024-06-28]</h2></td></tr><tr class=\"list-b\"><td class=\"l-sx0\"><div class=\"l-xh\">2</div></td><td class=\"l-sx1\"><h1 class=\"l-sx\"><ul><li class=\"l-wen\" onclick=\"showDetail(\\'./detail2.html?ZmY4MDgxODE4ZDZhNDYzOTAxOTA1ZjFkN2NhNzJkMmQ%3D\\')\" style=\"cursor:pointer;\" title=\"中华人民共和国国境卫生检疫法\">中华人民共和国国境卫生检疫法</li></ul></h1></td><td class=\"l-sx2\"><h2 class=\"l-wen1\">全国人民代表大会常务委员会</h2></td><td class=\"l-sx3\"><h2 class=\"l-wen1\">法律 </h2></td><td class=\"l-sx3\"><h2 class=\"l-wen1\">尚未生效 </h2></td><td class=\"l-sx4\"><h2 class=\"l-wen1\">[2024-06-28]</h2></td></tr><tr class=\"list-b\"><td class=\"l-sx0\"><div class=\"l-xh\">3</div></td><td class=\"l-sx1\"><h1 class=\"l-sx\"><ul><li class=\"l-wen\" onclick=\"showDetail(\\'./detail2.html?ZmY4MDgxODE4ZDZhNDI0YjAxOTA1ZjEzZWRiYTJlZmI%3D\\')\" style=\"cursor:pointer;\" title=\"中华人民共和国突发事件应对法\">中华人民共和国突发事件应对法</li></ul></h1></td><td class=\"l-sx2\"><h2 class=\"l-wen1\">全国人民代表大会常务委员会</h2></td><td class=\"l-sx3\"><h2 class=\"l-wen1\">法律 </h2></td><td class=\"l-sx3\"><h2 class=\"l-wen1\">尚未生效 </h2></td><td class=\"l-sx4\"><h2 class=\"l-wen1\">[2024-06-28]</h2></td></tr><tr class=\"list-b\"><td class=\"l-sx0\"><div class=\"l-xh\">4</div></td><td class=\"l-sx1\"><h1 class=\"l-sx\"><ul><li class=\"l-wen\" onclick=\"showDetail(\\'./detail2.html?ZmY4MDgxODE4ZDZhNDI0YjAxOTA1ZTVlNmI3MDJlNjY%3D\\')\" style=\"cursor:pointer;\" title=\"中华人民共和国生物安全法\">中华人民共和国生物安全法</li></ul></h1></td><td class=\"l-sx2\"><h2 class=\"l-wen1\">全国人民代表大会常务委员会</h2></td><td class=\"l-sx3\"><h2 class=\"l-wen1\">法律 </h2></td><td class=\"l-sx3\"><h2 class=\"l-wen1\">有效 </h2></td><td class=\"l-sx4\"><h2 class=\"l-wen1\">[2024-04-26]</h2></td></tr><tr class=\"list-b\"><td class=\"l-sx0\"><div class=\"l-xh\">5</div></td><td class=\"l-sx1\"><h1 class=\"l-sx\"><ul><li class=\"l-wen\" onclick=\"showDetail(\\'./detail2.html?ZmY4MDgxODE4ZDZhNDI0YjAxOGYxYTYzYjQ5YTc5NmE%3D\\')\" style=\"cursor:pointer;\" title=\"中华人民共和国学位法\">中华人民共和国学位法</li></ul></h1></td><td class=\"l-sx2\"><h2 class=\"l-wen1\">全国人民代表大会常务委员会</h2></td><td class=\"l-sx3\"><h2 class=\"l-wen1\">法律 </h2></td><td class=\"l-sx3\"><h2 class=\"l-wen1\">尚未生效 </h2></td><td class=\"l-sx4\"><h2 class=\"l-wen1\">[2024-04-26]</h2></td></tr><tr class=\"list-b\"><td class=\"l-sx0\"><div class=\"l-xh\">6</div></td><td class=\"l-sx1\"><h1 class=\"l-sx\"><ul><li class=\"l-wen\" onclick=\"showDetail(\\'./detail2.html?ZmY4MDgxODE4ZjE5N2NmMDAxOTA1ZTUwY2ZhMTM1OWY%3D\\')\" style=\"cursor:pointer;\" title=\"中华人民共和国农业技术推广法\">中华人民共和国农业技术推广法</li></ul></h1></td><td class=\"l-sx2\"><h2 class=\"l-wen1\">全国人民代表大会常务委员会</h2></td><td class=\"l-sx3\"><h2 class=\"l-wen1\">法律 </h2></td><td class=\"l-sx3\"><h2 class=\"l-wen1\">有效 </h2></td><td class=\"l-sx4\"><h2 class=\"l-wen1\">[2024-04-26]</h2></td></tr><tr class=\"list-b\"><td class=\"l-sx0\"><div class=\"l-xh\">7</div></td><td class=\"l-sx1\"><h1 class=\"l-sx\"><ul><li class=\"l-wen\" onclick=\"showDetail(\\'./detail2.html?ZmY4MDgxODE4ZjE5N2NmMDAxOGYxYTcyYjJjODAxZTA%3D\\')\" style=\"cursor:pointer;\" title=\"中华人民共和国关税法\">中华人民共和国关税法</li></ul></h1></td><td class=\"l-sx2\"><h2 class=\"l-wen1\">全国人民代表大会常务委员会</h2></td><td class=\"l-sx3\"><h2 class=\"l-wen1\">法律 </h2></td><td class=\"l-sx3\"><h2 class=\"l-wen1\">尚未生效 </h2></td><td class=\"l-sx4\"><h2 class=\"l-wen1\">[2024-04-26]</h2></td></tr><tr class=\"list-b\"><td class=\"l-sx0\"><div class=\"l-xh\">8</div></td><td class=\"l-sx1\"><h1 class=\"l-sx\"><ul><li class=\"l-wen\" onclick=\"showDetail(\\'./detail2.html?ZmY4MDgxODE4ZjE5N2NmMDAxOTA1ZTU2N2FmNjM1YTA%3D\\')\" style=\"cursor:pointer;\" title=\"中华人民共和国未成年人保护法\">中华人民共和国未成年人保护法</li></ul></h1></td><td class=\"l-sx2\"><h2 class=\"l-wen1\">全国人民代表大会常务委员会</h2></td><td class=\"l-sx3\"><h2 class=\"l-wen1\">法律 </h2></td><td class=\"l-sx3\"><h2 class=\"l-wen1\">有效 </h2></td><td class=\"l-sx4\"><h2 class=\"l-wen1\">[2024-04-26]</h2></td></tr><tr class=\"list-b\"><td class=\"l-sx0\"><div class=\"l-xh\">9</div></td><td class=\"l-sx1\"><h1 class=\"l-sx\"><ul><li class=\"l-wen\" onclick=\"showDetail(\\'./detail2.html?ZmY4MDgxODE4ZDZhNDQ2NDAxOGUyZGUyODY4ZDFkZmE%3D\\')\" style=\"cursor:pointer;\" title=\"中华人民共和国国务院组织法\">中华人民共和国国务院组织法</li></ul></h1></td><td class=\"l-sx2\"><h2 class=\"l-wen1\">全国人民代表大会</h2></td><td class=\"l-sx3\"><h2 class=\"l-wen1\">法律 </h2></td><td class=\"l-sx3\"><h2 class=\"l-wen1\">有效 </h2></td><td class=\"l-sx4\"><h2 class=\"l-wen1\">[2024-03-11]</h2></td></tr><tr class=\"list-b\"><td class=\"l-sx0\"><div class=\"l-xh\">10</div></td><td class=\"l-sx1\"><h1 class=\"l-sx\"><ul><li class=\"l-wen\" onclick=\"showDetail(\\'./detail2.html?ZmY4MDgxODE4ZDZhNDQ2NDAxOGRlOWY4YWI3NTExZTM%3D\\')\" style=\"cursor:pointer;\" title=\"中华人民共和国保守国家秘密法\">中华人民共和国保守国家秘密法</li></ul></h1></td><td class=\"l-sx2\"><h2 class=\"l-wen1\">全国人民代表大会常务委员会</h2></td><td class=\"l-sx3\"><h2 class=\"l-wen1\">法律 </h2></td><td class=\"l-sx3\"><h2 class=\"l-wen1\">有效 </h2></td><td class=\"l-sx4\"><h2 class=\"l-wen1\">[2024-02-27]</h2></td></tr>'"
     },
     "execution_count": 10,
     "metadata": {},
     "output_type": "execute_result"
    }
   ],
   "source": [
    "html_text = element.get_attribute('innerHTML')\n",
    "html_text"
   ],
   "metadata": {
    "collapsed": false,
    "ExecuteTime": {
     "end_time": "2024-08-20T01:31:55.122163100Z",
     "start_time": "2024-08-20T01:31:55.106489100Z"
    }
   },
   "id": "fd2a52a948e28dd9"
  },
  {
   "cell_type": "code",
   "execution_count": 13,
   "outputs": [],
   "source": [
    "# 使用BeautifulSoup解析HTML\n",
    "soup = BeautifulSoup(html_text, 'html.parser')"
   ],
   "metadata": {
    "collapsed": false,
    "ExecuteTime": {
     "end_time": "2024-08-20T01:33:01.307847300Z",
     "start_time": "2024-08-20T01:33:01.295846700Z"
    }
   },
   "id": "e9d2a204d260af0b"
  },
  {
   "cell_type": "code",
   "execution_count": 17,
   "outputs": [],
   "source": [
    "# 初始化一个空列表来存储结果  \n",
    "results = []"
   ],
   "metadata": {
    "collapsed": false,
    "ExecuteTime": {
     "end_time": "2024-08-20T01:36:38.705738800Z",
     "start_time": "2024-08-20T01:36:38.698740300Z"
    }
   },
   "id": "4ad0abeceb066c4d"
  },
  {
   "cell_type": "code",
   "execution_count": 18,
   "outputs": [],
   "source": [
    "# 查找所有的<tr>标签  \n",
    "for tr in soup.find_all('tr', class_='list-b'):  \n",
    "    # 提取URL  \n",
    "    url = tr.find('li', class_='l-wen')['onclick'].split('(')[1].split(')')[0][1:-1]\n",
    "    # 提取标题  \n",
    "    title = tr.find('li', class_='l-wen').text  \n",
    "    # 提取其他信息  \n",
    "    authority = tr.find('h2', class_='l-wen1').text if tr.find('h2', class_='l-wen1') else ''  \n",
    "    type_of_law = tr.find_all('h2', class_='l-wen1')[1].text if len(tr.find_all('h2', class_='l-wen1')) > 1 else ''  \n",
    "    status = tr.find_all('h2', class_='l-wen1')[2].text if len(tr.find_all('h2', class_='l-wen1')) > 2 else ''  \n",
    "    date = tr.find_all('h2', class_='l-wen1')[3].text if len(tr.find_all('h2', class_='l-wen1')) > 3 else ''  \n",
    "    # 将信息添加到列表中  \n",
    "    results.append([url, title, authority, type_of_law, status, date])"
   ],
   "metadata": {
    "collapsed": false,
    "ExecuteTime": {
     "end_time": "2024-08-20T01:36:39.485589500Z",
     "start_time": "2024-08-20T01:36:39.471589100Z"
    }
   },
   "id": "197c88fb26d11323"
  },
  {
   "cell_type": "code",
   "execution_count": 19,
   "outputs": [
    {
     "name": "stdout",
     "output_type": "stream",
     "text": [
      "['./detail2.html?ZmY4MDgxODE4ZDZhNDYzOTAxOTA1ZjJjYzJjMTJkM2I%3D', '中华人民共和国农村集体经济组织法', '全国人民代表大会常务委员会', '法律 ', '尚未生效 ', '[2024-06-28]']\n",
      "['./detail2.html?ZmY4MDgxODE4ZDZhNDYzOTAxOTA1ZjFkN2NhNzJkMmQ%3D', '中华人民共和国国境卫生检疫法', '全国人民代表大会常务委员会', '法律 ', '尚未生效 ', '[2024-06-28]']\n",
      "['./detail2.html?ZmY4MDgxODE4ZDZhNDI0YjAxOTA1ZjEzZWRiYTJlZmI%3D', '中华人民共和国突发事件应对法', '全国人民代表大会常务委员会', '法律 ', '尚未生效 ', '[2024-06-28]']\n",
      "['./detail2.html?ZmY4MDgxODE4ZDZhNDI0YjAxOTA1ZTVlNmI3MDJlNjY%3D', '中华人民共和国生物安全法', '全国人民代表大会常务委员会', '法律 ', '有效 ', '[2024-04-26]']\n",
      "['./detail2.html?ZmY4MDgxODE4ZDZhNDI0YjAxOGYxYTYzYjQ5YTc5NmE%3D', '中华人民共和国学位法', '全国人民代表大会常务委员会', '法律 ', '尚未生效 ', '[2024-04-26]']\n",
      "['./detail2.html?ZmY4MDgxODE4ZjE5N2NmMDAxOTA1ZTUwY2ZhMTM1OWY%3D', '中华人民共和国农业技术推广法', '全国人民代表大会常务委员会', '法律 ', '有效 ', '[2024-04-26]']\n",
      "['./detail2.html?ZmY4MDgxODE4ZjE5N2NmMDAxOGYxYTcyYjJjODAxZTA%3D', '中华人民共和国关税法', '全国人民代表大会常务委员会', '法律 ', '尚未生效 ', '[2024-04-26]']\n",
      "['./detail2.html?ZmY4MDgxODE4ZjE5N2NmMDAxOTA1ZTU2N2FmNjM1YTA%3D', '中华人民共和国未成年人保护法', '全国人民代表大会常务委员会', '法律 ', '有效 ', '[2024-04-26]']\n",
      "['./detail2.html?ZmY4MDgxODE4ZDZhNDQ2NDAxOGUyZGUyODY4ZDFkZmE%3D', '中华人民共和国国务院组织法', '全国人民代表大会', '法律 ', '有效 ', '[2024-03-11]']\n",
      "['./detail2.html?ZmY4MDgxODE4ZDZhNDQ2NDAxOGRlOWY4YWI3NTExZTM%3D', '中华人民共和国保守国家秘密法', '全国人民代表大会常务委员会', '法律 ', '有效 ', '[2024-02-27]']\n"
     ]
    }
   ],
   "source": [
    "# 打印结果\n",
    "for result in results:\n",
    "    print(result)"
   ],
   "metadata": {
    "collapsed": false,
    "ExecuteTime": {
     "end_time": "2024-08-20T01:36:40.296216200Z",
     "start_time": "2024-08-20T01:36:40.288214300Z"
    }
   },
   "id": "37e958732135759a"
  },
  {
   "cell_type": "code",
   "execution_count": 20,
   "outputs": [],
   "source": [
    "# 找到下一页的符号\n",
    "button = driver.find_element(By.CLASS_NAME, \"layui-laypage-next\")"
   ],
   "metadata": {
    "collapsed": false,
    "ExecuteTime": {
     "end_time": "2024-08-20T01:39:26.483192400Z",
     "start_time": "2024-08-20T01:39:26.465829500Z"
    }
   },
   "id": "13900b788987180a"
  },
  {
   "cell_type": "code",
   "execution_count": 21,
   "outputs": [],
   "source": [
    "# 模拟鼠标左键点击\n",
    "button.click()"
   ],
   "metadata": {
    "collapsed": false,
    "ExecuteTime": {
     "end_time": "2024-08-20T01:39:29.055143300Z",
     "start_time": "2024-08-20T01:39:28.699229800Z"
    }
   },
   "id": "22ab356fe6e8c373"
  },
  {
   "cell_type": "code",
   "execution_count": 22,
   "outputs": [],
   "source": [
    "# driver释放\n",
    "driver.quit()"
   ],
   "metadata": {
    "collapsed": false,
    "ExecuteTime": {
     "end_time": "2024-08-20T01:54:58.636712500Z",
     "start_time": "2024-08-20T01:54:56.464578300Z"
    }
   },
   "id": "24737fe9d9f708f4"
  },
  {
   "cell_type": "markdown",
   "source": [
    "### 整合起来"
   ],
   "metadata": {
    "collapsed": false
   },
   "id": "dc6d20562ef6ccef"
  },
  {
   "cell_type": "code",
   "execution_count": 3,
   "outputs": [],
   "source": [
    "def get_result_list(html_path, page_num):\n",
    "    from selenium import webdriver\n",
    "    from selenium.webdriver.common.by import By\n",
    "    from bs4 import BeautifulSoup\n",
    "    from tqdm import tqdm\n",
    "    \n",
    "    try:\n",
    "        # 初始化一个空列表来存储结果  \n",
    "        results = []\n",
    "        # 启动chrome驱动 这步需要等待一段时间\n",
    "        driver = webdriver.Chrome()\n",
    "        # 进入想要爬取的网页\n",
    "        driver.get(html_path)\n",
    "        for i in tqdm(range(page_num)):\n",
    "            # 通过唯一id检索到想要的元素\n",
    "            element = driver.find_element(By.ID, \"flData\")\n",
    "            # 提取元素信息文本\n",
    "            html_text = element.get_attribute('innerHTML')\n",
    "            # 使用BeautifulSoup解析HTML\n",
    "            soup = BeautifulSoup(html_text, 'html.parser')\n",
    "            # 查找所有的<tr>标签  \n",
    "            for tr in soup.find_all('tr', class_='list-b'):  \n",
    "                # 提取URL  \n",
    "                url = tr.find('li', class_='l-wen')['onclick'].split('(')[1].split(')')[0]\n",
    "                # 删去额外的引号\n",
    "                url = url[1: -1]\n",
    "                # 提取标题  \n",
    "                title = tr.find('li', class_='l-wen').text  \n",
    "                # 提取其他信息  \n",
    "                authority = tr.find('h2', class_='l-wen1').text if tr.find('h2', class_='l-wen1') else ''  \n",
    "                type_of_law = tr.find_all('h2', class_='l-wen1')[1].text if len(tr.find_all('h2', class_='l-wen1')) > 1 else ''  \n",
    "                status = tr.find_all('h2', class_='l-wen1')[2].text if len(tr.find_all('h2', class_='l-wen1')) > 2 else ''  \n",
    "                date = tr.find_all('h2', class_='l-wen1')[3].text if len(tr.find_all('h2', class_='l-wen1')) > 3 else ''  \n",
    "                # 将信息添加到列表中  \n",
    "                results.append([url, title, authority, type_of_law, status, date])\n",
    "            # 判断是否要点击下一页\n",
    "            if i < page_num - 1:\n",
    "                # 找到下一页的符号\n",
    "                button = driver.find_element(By.CLASS_NAME, \"layui-laypage-next\")\n",
    "                # 模拟鼠标左键点击\n",
    "                button.click()\n",
    "        driver.quit()\n",
    "        return results\n",
    "    except Exception as e:\n",
    "        print(e)"
   ],
   "metadata": {
    "collapsed": false,
    "ExecuteTime": {
     "end_time": "2024-08-20T02:01:48.201417500Z",
     "start_time": "2024-08-20T02:01:48.187514Z"
    }
   },
   "id": "5930c3e77261ae09"
  },
  {
   "cell_type": "code",
   "execution_count": 4,
   "outputs": [
    {
     "name": "stderr",
     "output_type": "stream",
     "text": [
      "100%|██████████| 45/45 [00:13<00:00,  3.30it/s]\n"
     ]
    }
   ],
   "source": [
    "result_list = get_result_list(url, 45)"
   ],
   "metadata": {
    "collapsed": false,
    "ExecuteTime": {
     "end_time": "2024-08-20T02:02:12.883783600Z",
     "start_time": "2024-08-20T02:01:50.163978200Z"
    }
   },
   "id": "318d7f61f363e300"
  },
  {
   "cell_type": "code",
   "execution_count": 6,
   "outputs": [],
   "source": [
    "result_list_pro = [['https://flk.npc.gov.cn' + x[0][1:], x[1], x[2], x[3], x[4], x[5]] for x in result_list]"
   ],
   "metadata": {
    "collapsed": false,
    "ExecuteTime": {
     "end_time": "2024-08-20T02:25:22.564672800Z",
     "start_time": "2024-08-20T02:25:22.558868500Z"
    }
   },
   "id": "becca2060c8e62d6"
  },
  {
   "cell_type": "code",
   "execution_count": 7,
   "outputs": [],
   "source": [
    "df = pd.DataFrame(columns=['url', 'title', 'authority', 'type_of_law', 'status', 'date'], data=result_list_pro)"
   ],
   "metadata": {
    "collapsed": false,
    "ExecuteTime": {
     "end_time": "2024-08-20T02:26:04.508605100Z",
     "start_time": "2024-08-20T02:26:04.500595600Z"
    }
   },
   "id": "dbc7fe8fc037bffe"
  },
  {
   "cell_type": "code",
   "execution_count": 8,
   "outputs": [],
   "source": [
    "# 保存为表格文件\n",
    "df.to_excel('./result.xlsx')"
   ],
   "metadata": {
    "collapsed": false,
    "ExecuteTime": {
     "end_time": "2024-08-20T02:28:56.824919500Z",
     "start_time": "2024-08-20T02:28:56.571902Z"
    }
   },
   "id": "d2b6d6d1ec1b84b3"
  },
  {
   "cell_type": "code",
   "execution_count": 4,
   "outputs": [],
   "source": [
    "# 读取文件\n",
    "df = pd.read_excel('./url.xlsx', index_col=0)"
   ],
   "metadata": {
    "collapsed": false,
    "ExecuteTime": {
     "end_time": "2024-08-20T07:18:10.600051Z",
     "start_time": "2024-08-20T07:18:10.364449200Z"
    }
   },
   "id": "ecd9a464b2146ddc"
  },
  {
   "cell_type": "markdown",
   "source": [
    "### 开始下载每个页面里面的文档"
   ],
   "metadata": {
    "collapsed": false
   },
   "id": "5eb714caba45595b"
  },
  {
   "cell_type": "code",
   "execution_count": 5,
   "outputs": [],
   "source": [
    "df_now = df[df['status'] == '有效 '].reset_index(drop=True)"
   ],
   "metadata": {
    "collapsed": false,
    "ExecuteTime": {
     "end_time": "2024-08-20T07:18:15.097454400Z",
     "start_time": "2024-08-20T07:18:15.090409800Z"
    }
   },
   "id": "f4feb324ce22cf48"
  },
  {
   "cell_type": "code",
   "execution_count": 6,
   "outputs": [
    {
     "name": "stdout",
     "output_type": "stream",
     "text": [
      "https://flk.npc.gov.cn/detail2.html?ZmY4MDgxODE4ZDZhNDI0YjAxOTA1ZTVlNmI3MDJlNjY%3D\n",
      "中华人民共和国生物安全法\n"
     ]
    }
   ],
   "source": [
    "data = df_now.iloc[0]\n",
    "print(data['url'])\n",
    "print(data['title'])"
   ],
   "metadata": {
    "collapsed": false,
    "ExecuteTime": {
     "end_time": "2024-08-20T07:18:16.105422100Z",
     "start_time": "2024-08-20T07:18:16.097839700Z"
    }
   },
   "id": "35b257e49c1dc246"
  },
  {
   "cell_type": "code",
   "execution_count": 7,
   "outputs": [],
   "source": [
    "# 启动chrome驱动 这步需要等待一段时间\n",
    "driver = webdriver.Chrome()\n",
    "# 进入想要爬取的网页\n",
    "driver.get(data['url'])"
   ],
   "metadata": {
    "collapsed": false,
    "ExecuteTime": {
     "end_time": "2024-08-20T07:18:25.668314200Z",
     "start_time": "2024-08-20T07:18:19.628327600Z"
    }
   },
   "id": "291836e473e4f7b1"
  },
  {
   "cell_type": "code",
   "execution_count": 11,
   "outputs": [],
   "source": [
    "# 通过唯一id检索到想要的元素\n",
    "element = driver.find_element(By.ID, \"codeMa\")"
   ],
   "metadata": {
    "collapsed": false,
    "ExecuteTime": {
     "end_time": "2024-08-20T07:27:23.008318400Z",
     "start_time": "2024-08-20T07:27:22.991223800Z"
    }
   },
   "id": "f9a6b7d2dd860a05"
  },
  {
   "cell_type": "code",
   "execution_count": 12,
   "outputs": [
    {
     "data": {
      "text/plain": "'https://wb.flk.npc.gov.cn/flfg/PNG/7a0405f12342439d89077245bf52f06c.png'"
     },
     "execution_count": 12,
     "metadata": {},
     "output_type": "execute_result"
    }
   ],
   "source": [
    "element.get_attribute('src')"
   ],
   "metadata": {
    "collapsed": false,
    "ExecuteTime": {
     "end_time": "2024-08-20T07:27:23.987820600Z",
     "start_time": "2024-08-20T07:27:23.954677300Z"
    }
   },
   "id": "3b98a9efe9d8f703"
  },
  {
   "cell_type": "code",
   "execution_count": 13,
   "outputs": [
    {
     "data": {
      "text/plain": "'7a0405f12342439d89077245bf52f06c'"
     },
     "execution_count": 13,
     "metadata": {},
     "output_type": "execute_result"
    }
   ],
   "source": [
    "docs_id = element.get_attribute('src').split('/')[-1][:-4]\n",
    "docs_id"
   ],
   "metadata": {
    "collapsed": false,
    "ExecuteTime": {
     "end_time": "2024-08-20T07:27:25.407237Z",
     "start_time": "2024-08-20T07:27:25.377333600Z"
    }
   },
   "id": "17842b6fbbea24be"
  },
  {
   "cell_type": "code",
   "execution_count": 27,
   "outputs": [],
   "source": [
    "# docx_base_url = 'https://wb.flk.npc.gov.cn/flfg/WORD/replace.docx'"
   ],
   "metadata": {
    "collapsed": false,
    "ExecuteTime": {
     "end_time": "2024-08-20T03:38:18.472638200Z",
     "start_time": "2024-08-20T03:38:18.464622900Z"
    }
   },
   "id": "17c5f3deb0e957d1"
  },
  {
   "cell_type": "code",
   "execution_count": 28,
   "outputs": [],
   "source": [
    "# download_url = docx_base_url.replace('replace', docs_id)"
   ],
   "metadata": {
    "collapsed": false,
    "ExecuteTime": {
     "end_time": "2024-08-20T03:38:50.512229900Z",
     "start_time": "2024-08-20T03:38:50.499496100Z"
    }
   },
   "id": "3ecc78f75e61843d"
  },
  {
   "cell_type": "code",
   "execution_count": 31,
   "outputs": [],
   "source": [
    "# download_folder = r'D:\\project\\reptile\\docs'"
   ],
   "metadata": {
    "collapsed": false,
    "ExecuteTime": {
     "end_time": "2024-08-20T03:46:54.247476300Z",
     "start_time": "2024-08-20T03:46:54.242472100Z"
    }
   },
   "id": "de148abd89009b62"
  },
  {
   "cell_type": "code",
   "execution_count": 33,
   "outputs": [
    {
     "data": {
      "text/plain": "0"
     },
     "execution_count": 33,
     "metadata": {},
     "output_type": "execute_result"
    }
   ],
   "source": [
    "# os.system(f'wget {download_url} -O {os.path.join(download_folder, data[\"title\"] + \".docx\")}')"
   ],
   "metadata": {
    "collapsed": false,
    "ExecuteTime": {
     "end_time": "2024-08-20T03:53:04.712675900Z",
     "start_time": "2024-08-20T03:53:04.349101300Z"
    }
   },
   "id": "ebd5cfadc5201ab0"
  },
  {
   "cell_type": "markdown",
   "source": [
    "wget 下载的文件不行 改用模拟点击下载文档到本地再修改名称并移动到指定文件夹"
   ],
   "metadata": {
    "collapsed": false
   },
   "id": "be34783cbc85ec4e"
  },
  {
   "cell_type": "code",
   "execution_count": 8,
   "outputs": [],
   "source": [
    "# 通过唯一class检索到下载按钮\n",
    "button = driver.find_element(By.CLASS_NAME, \"xia-z\")"
   ],
   "metadata": {
    "collapsed": false,
    "ExecuteTime": {
     "end_time": "2024-08-20T07:23:19.982665300Z",
     "start_time": "2024-08-20T07:23:19.969483400Z"
    }
   },
   "id": "3efea7dd4615120b"
  },
  {
   "cell_type": "code",
   "execution_count": 10,
   "outputs": [],
   "source": [
    "# 模拟鼠标左键点击\n",
    "button.click()"
   ],
   "metadata": {
    "collapsed": false,
    "ExecuteTime": {
     "end_time": "2024-08-20T07:24:54.692695400Z",
     "start_time": "2024-08-20T07:24:54.615120700Z"
    }
   },
   "id": "2960c8de813ae6b4"
  },
  {
   "cell_type": "code",
   "execution_count": 14,
   "outputs": [
    {
     "data": {
      "text/plain": "'D:\\\\project\\\\reptile\\\\docs\\\\中华人民共和国生物安全法.docx'"
     },
     "execution_count": 14,
     "metadata": {},
     "output_type": "execute_result"
    }
   ],
   "source": [
    "from shutil import move\n",
    "from os.path import join\n",
    "user_download_folder = r'C:\\Users\\70473\\Downloads'\n",
    "save_folder = r'D:\\project\\reptile\\docs'\n",
    "move(join(user_download_folder, docs_id + '.docx'), join(save_folder, data['title'] + '.docx'))"
   ],
   "metadata": {
    "collapsed": false,
    "ExecuteTime": {
     "end_time": "2024-08-20T07:28:47.652673Z",
     "start_time": "2024-08-20T07:28:47.641672400Z"
    }
   },
   "id": "ff8e22475048beb6"
  },
  {
   "cell_type": "code",
   "execution_count": 15,
   "outputs": [],
   "source": [
    "driver.quit()"
   ],
   "metadata": {
    "collapsed": false,
    "ExecuteTime": {
     "end_time": "2024-08-20T07:33:27.856131500Z",
     "start_time": "2024-08-20T07:33:25.652008400Z"
    }
   },
   "id": "ce7a5d26c3b39990"
  },
  {
   "cell_type": "code",
   "execution_count": null,
   "outputs": [],
   "source": [],
   "metadata": {
    "collapsed": false
   },
   "id": "c6c7c986a68b3699"
  }
 ],
 "metadata": {
  "kernelspec": {
   "display_name": "Python 3",
   "language": "python",
   "name": "python3"
  },
  "language_info": {
   "codemirror_mode": {
    "name": "ipython",
    "version": 2
   },
   "file_extension": ".py",
   "mimetype": "text/x-python",
   "name": "python",
   "nbconvert_exporter": "python",
   "pygments_lexer": "ipython2",
   "version": "2.7.6"
  }
 },
 "nbformat": 4,
 "nbformat_minor": 5
}
